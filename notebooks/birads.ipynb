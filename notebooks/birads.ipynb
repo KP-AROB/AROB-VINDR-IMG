{
 "cells": [
  {
   "cell_type": "markdown",
   "metadata": {},
   "source": [
    "# Vindr-Mammo dataset analysis (BIRADS)\n",
    "\n",
    "As described by the authors, the project directory contains the following files and subfolder:\n",
    "\n",
    "- **Annotations files**:  \n",
    "  - `breast-level_annotations.csv`  \n",
    "  - `finding_annotations.csv`  \n",
    "- **Metadata file**:  \n",
    "  - `metadata.csv`  \n",
    "- **Subfolder**:  \n",
    "  - `images` (contains DICOM files)\n",
    "\n",
    "---\n",
    "\n",
    "### `images` Subfolder\n",
    "\n",
    "- Contains **5,000 subdirectories**, each corresponding to an exam in the dataset.\n",
    "- The **folder name** is the hashed study identifier of the exam.\n",
    "- Each folder contains **four DICOM files** for two standard views of each breast.\n",
    "- **Path format**:  \n",
    "  `images/<study_id>/<image_id>.dicom`\n",
    "\n",
    "---\n",
    "\n",
    "### Annotations Files\n",
    "\n",
    "#### `breast-level_annotations.csv`\n",
    "\n",
    "- Each row corresponds to an image and provides the BI-RADS assessment along with metadata.\n",
    "- **Attributes**:\n",
    "  - `study_id`: Encoded study identifier.\n",
    "  - `series_id`: Encoded series identifier.\n",
    "  - `laterality`: Laterality of the breast (L or R).\n",
    "  - `view_position`: Orientation of the image (CC or MLO).\n",
    "  - `height`: Height of the image.\n",
    "  - `width`: Width of the image.\n",
    "  - `breast_birads`: BI-RADS assessment of the breast.\n",
    "  - `breast_density`: Density category of the breast.\n",
    "  - `split`: Indicates the split to which the image belongs (`training` or `test`).\n",
    "\n",
    "---\n",
    "\n",
    "#### `finding_annotations.csv`\n",
    "\n",
    "- Each row represents an annotation of a breast abnormality in an image.\n",
    "- **Image metadata**:  \n",
    "  - `image_id`, `study_id`, `series_id`, `laterality`, `view_position`, `height`, `width`, `breast_birads`, `breast_density`, `split`\n",
    "- **Annotation metadata**:\n",
    "  - `finding_categories`: List of finding categories (e.g., `[\"Mass\", \"Skin Retraction\"]`).\n",
    "  - `finding_birads`: BI-RADS assessment of the marked finding.\n",
    "  - `xmin`, `ymin`, `xmax`, `ymax`: Coordinates of the bounding box.\n",
    "\n",
    "---\n",
    "\n",
    "### `metadata.csv`\n",
    "\n",
    "- Contains DICOM tag information relevant for research:\n",
    "  - Patient's age.\n",
    "  - Imaging device model.\n",
    "  - Manufacturer."
   ]
  },
  {
   "cell_type": "code",
   "execution_count": 15,
   "metadata": {},
   "outputs": [
    {
     "name": "stdout",
     "output_type": "stream",
     "text": [
      "The dataset directory contains :\n",
      "    - /mnt/d/datasets/vindr-mammo/data/LICENSE.txt\n",
      "    - /mnt/d/datasets/vindr-mammo/data/SHA256SUMS.txt\n",
      "    - /mnt/d/datasets/vindr-mammo/data/breast-level_annotations.csv\n",
      "    - /mnt/d/datasets/vindr-mammo/data/finding_annotations.csv\n",
      "    - /mnt/d/datasets/vindr-mammo/data/metadata.csv\n",
      "    - /mnt/d/datasets/vindr-mammo/data/npy\n",
      "    - /mnt/d/datasets/vindr-mammo/data/images\n",
      "    - /mnt/d/datasets/vindr-mammo/data/prepared\n",
      "    - /mnt/d/datasets/vindr-mammo/data/light_augmentations\n"
     ]
    }
   ],
   "source": [
    "from glob import glob \n",
    "\n",
    "data_dir = \"/mnt/d/datasets/vindr-mammo/data\"\n",
    "f_list = glob(data_dir + '/*')\n",
    "print('The dataset directory contains :')\n",
    "for i in f_list:\n",
    "    print(f'    - {i}')"
   ]
  },
  {
   "cell_type": "markdown",
   "metadata": {},
   "source": [
    "According to the dataset description : \n",
    "\n",
    "- finding_annotations.csv, could be used to prepare the dataset for both lesion-based classification and segmentation tasks.\n",
    "- breast-level_annotations.csv, could be used to prepare the dataset for a bi-rads based classification.\n",
    "\n",
    "### Extraction protocol - birads-based classification\n",
    "\n",
    "1. Get the names of unique birads\n",
    "2. Rename the breast_birads cells of the finding_annotations.csv to facilitate later access to this column. \n",
    "3. Remove any row where breast_birads is NaN.\n",
    "4. Create a filter to reset the assessments according to the 3-category system (birads from 0 to 2).\n",
    "5. Iterate through the rows and load the dicom file using study_id and image_id. (optional) Create and display a bounding box on the annotated lesion. "
   ]
  },
  {
   "cell_type": "markdown",
   "metadata": {},
   "source": [
    "##### 1. Names of unique finding categories"
   ]
  },
  {
   "cell_type": "code",
   "execution_count": 16,
   "metadata": {},
   "outputs": [
    {
     "name": "stdout",
     "output_type": "stream",
     "text": [
      "Unique assessments found :\n",
      "    - BI-RADS 4\n",
      "    - BI-RADS 3\n",
      "    - BI-RADS 5\n",
      "    - BI-RADS 2\n",
      "    - BI-RADS 1\n"
     ]
    }
   ],
   "source": [
    "import ast\n",
    "import os\n",
    "import pandas as pd\n",
    "import numpy as np\n",
    "\n",
    "df_find = pd.read_csv(os.path.join(data_dir, 'finding_annotations.csv'))\n",
    "original_df_find_len = len(df_find)\n",
    "\n",
    "unique_birads = df_find['breast_birads'].unique()\n",
    "print('Unique assessments found :')\n",
    "for i in unique_birads:\n",
    "    print(f'    - {i}')"
   ]
  },
  {
   "cell_type": "markdown",
   "metadata": {},
   "source": [
    "##### 2. Rename birads assessments"
   ]
  },
  {
   "cell_type": "code",
   "execution_count": 17,
   "metadata": {},
   "outputs": [
    {
     "name": "stdout",
     "output_type": "stream",
     "text": [
      "Sample of newly named birad assessment :  bi-rads_4\n"
     ]
    }
   ],
   "source": [
    "def format_char(char):\n",
    "    return char.lower().replace(' ', '_')\n",
    "\n",
    "df_find['breast_birads'] = df_find['breast_birads'].apply(format_char)\n",
    "\n",
    "print('Sample of newly named birad assessment : ', df_find['breast_birads'].iloc[5])"
   ]
  },
  {
   "cell_type": "markdown",
   "metadata": {},
   "source": [
    "##### 3. Check if there are rows without birads"
   ]
  },
  {
   "cell_type": "code",
   "execution_count": 18,
   "metadata": {},
   "outputs": [
    {
     "data": {
      "text/plain": [
       "array([False])"
      ]
     },
     "execution_count": 18,
     "metadata": {},
     "output_type": "execute_result"
    }
   ],
   "source": [
    "has_nan_birads = df_find['breast_birads'].isna().unique()\n",
    "\n",
    "has_nan_birads"
   ]
  },
  {
   "cell_type": "markdown",
   "metadata": {},
   "source": [
    "All studies have defined finding categories, continuing ..."
   ]
  },
  {
   "cell_type": "markdown",
   "metadata": {},
   "source": [
    "##### 4. Create the 3-category birads system\n",
    "\n",
    "Just like stated by the authors : \n",
    "\n",
    "\"For the screening purpose, the dataset can be directly used to evaluate CAD after converting the provided BI-RADS annotations in 5 categories to the 3-category system: BI-RAS 0 (recall, correspond to BI-RADS 3, BI-RADS 4, BI-RADS 5), BI-RAS 1 (normal, correspond to BI-RADS 1), BI-RAS 2 (benign, correspond to BI-RADS 2)\""
   ]
  },
  {
   "cell_type": "code",
   "execution_count": 19,
   "metadata": {},
   "outputs": [
    {
     "name": "stdout",
     "output_type": "stream",
     "text": [
      "breast_birads\n",
      "bi-rads_1    13406\n",
      "bi-rads_2     4676\n",
      "bi-rads_4     1005\n",
      "bi-rads_3      972\n",
      "bi-rads_5      427\n",
      "Name: count, dtype: int64\n",
      "New count\n",
      "breast_birads\n",
      "bi-rads_1    13406\n",
      "bi-rads_2     4676\n",
      "bi-rads_0     2404\n",
      "Name: count, dtype: int64\n"
     ]
    }
   ],
   "source": [
    "label_counts = df_find['breast_birads'].value_counts()\n",
    "print(label_counts)\n",
    "\n",
    "mapping = {\n",
    "    'bi-rads_1': 'bi-rads_1',\n",
    "    'bi-rads_2': 'bi-rads_2', \n",
    "    'bi-rads_3': 'bi-rads_0',\n",
    "    'bi-rads_4': 'bi-rads_0', \n",
    "    'bi-rads_5': 'bi-rads_0'\n",
    "}\n",
    "\n",
    "df_find['breast_birads'] = df_find['breast_birads'].replace(mapping)\n",
    "\n",
    "print('New count')\n",
    "label_counts = df_find['breast_birads'].value_counts()\n",
    "print(label_counts)"
   ]
  }
 ],
 "metadata": {
  "kernelspec": {
   "display_name": "norse",
   "language": "python",
   "name": "python3"
  },
  "language_info": {
   "codemirror_mode": {
    "name": "ipython",
    "version": 3
   },
   "file_extension": ".py",
   "mimetype": "text/x-python",
   "name": "python",
   "nbconvert_exporter": "python",
   "pygments_lexer": "ipython3",
   "version": "3.9.20"
  }
 },
 "nbformat": 4,
 "nbformat_minor": 2
}
